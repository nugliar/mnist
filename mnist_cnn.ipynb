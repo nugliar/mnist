{
 "cells": [
  {
   "cell_type": "code",
   "execution_count": 45,
   "metadata": {},
   "outputs": [],
   "source": [
    "import numpy as np\n",
    "import tensorflow as tf\n",
    "import pandas as pd\n",
    "import matplotlib.pyplot as plt\n",
    "\n",
    "tf.logging.set_verbosity(tf.logging.ERROR)"
   ]
  },
  {
   "cell_type": "markdown",
   "metadata": {},
   "source": [
    "### Get data"
   ]
  },
  {
   "cell_type": "markdown",
   "metadata": {},
   "source": [
    "### Normalize data"
   ]
  },
  {
   "cell_type": "code",
   "execution_count": 26,
   "metadata": {},
   "outputs": [],
   "source": [
    "train_image_data = train_df.iloc[:,1:] / 255.0\n",
    "train_image_labels = train_df['label']\n",
    "test_image_data = test_df / 255.0"
   ]
  },
  {
   "cell_type": "markdown",
   "metadata": {},
   "source": [
    "### Get train, validation and test examples"
   ]
  },
  {
   "cell_type": "code",
   "execution_count": 27,
   "metadata": {},
   "outputs": [],
   "source": [
    "RATIO = 0.8\n",
    "\n",
    "size = round(len(train_image_data) * RATIO)\n",
    "\n",
    "# convert series to list\n",
    "train_list = train_image_data.values.tolist()\n",
    "test_list = test_image_data.values.tolist()\n",
    "\n",
    "# convert lists to numpy arrays\n",
    "train_examples = np.asarray(train_list[:size], dtype=np.float32)\n",
    "train_labels = np.asarray(train_image_labels[:size], dtype=np.int32)\n",
    "\n",
    "validation_examples = np.asarray(train_list[size:], dtype=np.float32)\n",
    "validation_labels = np.asarray(train_image_labels[size:], dtype=np.int32)\n",
    "\n",
    "test_examples = np.asarray(test_list, dtype=np.float32)"
   ]
  },
  {
   "cell_type": "code",
   "execution_count": 28,
   "metadata": {},
   "outputs": [
    {
     "name": "stdout",
     "output_type": "stream",
     "text": [
      "(33600, 784)\n",
      "(8400, 784)\n",
      "(33600,)\n",
      "(8400,)\n",
      "(28000, 784)\n"
     ]
    }
   ],
   "source": [
    "print(train_examples.shape)\n",
    "print(validation_examples.shape)\n",
    "print(train_labels.shape)\n",
    "print(validation_labels.shape)\n",
    "print(test_examples.shape)"
   ]
  },
  {
   "cell_type": "markdown",
   "metadata": {},
   "source": [
    "### Input functions"
   ]
  },
  {
   "cell_type": "code",
   "execution_count": 47,
   "metadata": {},
   "outputs": [],
   "source": [
    "train_input_fn = tf.estimator.inputs.numpy_input_fn(\n",
    "    x={'x':train_examples},\n",
    "    y=train_labels,\n",
    "    batch_size=80,\n",
    "    num_epochs=1,\n",
    "    shuffle=True)\n",
    "\n",
    "eval_input_fn = tf.estimator.inputs.numpy_input_fn(\n",
    "    x={'x':train_examples},\n",
    "    y=train_labels,\n",
    "    num_epochs=1,\n",
    "    shuffle=False)\n",
    "\n",
    "valid_input_fn = tf.estimator.inputs.numpy_input_fn(\n",
    "    x={'x':validation_examples},\n",
    "    y=validation_labels,\n",
    "    batch_size=80,\n",
    "    num_epochs=1,\n",
    "    shuffle=True)\n",
    "\n",
    "predict_input_fn = tf.estimator.inputs.numpy_input_fn(\n",
    "    x={'x':test_examples},\n",
    "    num_epochs=1,\n",
    "    shuffle=False)"
   ]
  },
  {
   "cell_type": "markdown",
   "metadata": {},
   "source": [
    "### CNN model"
   ]
  },
  {
   "cell_type": "code",
   "execution_count": 34,
   "metadata": {},
   "outputs": [],
   "source": [
    "def cnn_model_fn(features, labels, mode):\n",
    "    \n",
    "    reshape_layer_1 = tf.reshape(features['x'], [-1, 28, 28, 1])\n",
    "    \n",
    "    conv_layer_1 = tf.layers.conv2d(\n",
    "        inputs=reshape_layer_1,\n",
    "        filters=32,\n",
    "        kernel_size=[10, 10],\n",
    "        padding='same',\n",
    "        activation=tf.nn.relu)\n",
    "    \n",
    "    conv_layer_2 = tf.layers.conv2d(\n",
    "        inputs=conv_layer_1,\n",
    "        filters=64,\n",
    "        kernel_size=[5, 5],\n",
    "        padding='same',\n",
    "        activation=tf.nn.relu)\n",
    "    \n",
    "    reshape_layer_2 = tf.reshape(conv_layer_2, [-1, 28 * 28 * 64])\n",
    "    \n",
    "    dense_layer = tf.layers.dense(\n",
    "        inputs=reshape_layer_2,\n",
    "        units=1024,\n",
    "        activation=tf.nn.relu)\n",
    "    \n",
    "    is_train = False\n",
    "    \n",
    "    if mode == tf.estimator.ModeKeys.TRAIN:\n",
    "        is_train = True\n",
    "        \n",
    "    dropout_layer = tf.layers.dropout(\n",
    "        inputs=dense_layer,\n",
    "        rate=0.4,\n",
    "        training=is_train)\n",
    "    \n",
    "    logits_layer = tf.layers.dense(\n",
    "        inputs=dropout_layer,\n",
    "        units=10)\n",
    "    \n",
    "    predictions = {\n",
    "        'classes':tf.argmax(input=logits_layer, axis=1),\n",
    "        'probabilities':tf.nn.softmax(logits_layer, name='softmax_tensor')}\n",
    "    \n",
    "    if mode == tf.estimator.ModeKeys.PREDICT:\n",
    "        return tf.estimator.EstimatorSpec(mode=mode, predictions=predictions)\n",
    "    \n",
    "    loss = tf.losses.sparse_softmax_cross_entropy(\n",
    "        labels=labels,\n",
    "        logits=logits_layer)\n",
    "    \n",
    "    accuracy = tf.metrics.accuracy(\n",
    "        labels=labels,\n",
    "        predictions = predictions['classes'],\n",
    "        name='accu_op')\n",
    "    \n",
    "    tf.summary.scalar('accuracy', accuracy[1])\n",
    "    \n",
    "    if mode == tf.estimator.ModeKeys.TRAIN:\n",
    "        train_optimizer = tf.train.AdamOptimizer(learning_rate=LR).minimize(\n",
    "            loss=loss,\n",
    "            global_step=tf.train.get_global_step())\n",
    "        return tf.estimator.EstimatorSpec(mode=mode, loss=loss, train_op=train_optimizer)\n",
    "    \n",
    "    # mode = EVAL\n",
    "    eval_metric_ops = {'accuracy':accuracy}\n",
    "    \n",
    "    return tf.estimator.EstimatorSpec(mode=mode, loss=loss, eval_metric_ops=eval_metric_ops)"
   ]
  },
  {
   "cell_type": "markdown",
   "metadata": {},
   "source": [
    "### Configure estimator"
   ]
  },
  {
   "cell_type": "code",
   "execution_count": 35,
   "metadata": {},
   "outputs": [],
   "source": [
    "# directory to periodically save weights, biases, acc, loss\n",
    "OUTDIR = './cnn_mnist_train_data'\n",
    "\n",
    "cnn_classifier = tf.estimator.Estimator(model_fn=cnn_model_fn, model_dir=OUTDIR)\n",
    "\n",
    "# call method to write train data to OUTDIR\n",
    "#file_writer = tf.summary.FileWriter(OUTDIR)"
   ]
  },
  {
   "cell_type": "markdown",
   "metadata": {},
   "source": [
    "### Train fuction"
   ]
  },
  {
   "cell_type": "code",
   "execution_count": 48,
   "metadata": {},
   "outputs": [],
   "source": [
    "def train_and_evaluate(estimator, epochs=10):\n",
    "    \n",
    "    train_logs = []\n",
    "    valid_logs = []\n",
    "    \n",
    "    for epoch in range(epochs):\n",
    "        \n",
    "        estimator.train(input_fn=training_input_fn)\n",
    "        \n",
    "        print('epoch {}/{}'.format(epoch + 1, epochs))\n",
    "        train_log = estimator.evaluate(input_fn=eval_input_fn)\n",
    "        print('train_acc:{:.3f}\\ttrain_loss:{:.3f}'.format(train_log['accuracy'], train_log['loss']))\n",
    "        \n",
    "        valid_log = estimator.evaluate(input_fn=valid_input_fn)\n",
    "        print('valid_acc:{:.3f}\\tvalid_loss:{:.3f}'.format(valid_log['accuracy'], valid_log['loss']))\n",
    "        \n",
    "        train_logs.append(train_log)\n",
    "        valid_logs.append(valid_log)\n",
    "        \n",
    "    return train_logs, valid_logs"
   ]
  },
  {
   "cell_type": "markdown",
   "metadata": {},
   "source": [
    "### Train"
   ]
  },
  {
   "cell_type": "code",
   "execution_count": 49,
   "metadata": {},
   "outputs": [
    {
     "name": "stdout",
     "output_type": "stream",
     "text": [
      "epoch 1/5\n",
      "train_acc:0.977\ttrain_loss:0.078\n",
      "valid_acc:0.979\tvalid_loss:0.069\n",
      "epoch 2/5\n",
      "train_acc:0.986\ttrain_loss:0.048\n",
      "valid_acc:0.990\tvalid_loss:0.034\n",
      "epoch 3/5\n",
      "train_acc:0.993\ttrain_loss:0.027\n",
      "valid_acc:0.992\tvalid_loss:0.028\n",
      "epoch 4/5\n",
      "train_acc:0.992\ttrain_loss:0.025\n",
      "valid_acc:0.992\tvalid_loss:0.022\n",
      "epoch 5/5\n",
      "train_acc:0.995\ttrain_loss:0.018\n",
      "valid_acc:0.995\tvalid_loss:0.015\n"
     ]
    }
   ],
   "source": [
    "# learning rate\n",
    "LR = 0.0001\n",
    "\n",
    "# train\n",
    "train_logs, valid_logs = train_and_evaluate(cnn_classifier, epochs=5)"
   ]
  },
  {
   "cell_type": "markdown",
   "metadata": {},
   "source": [
    "### Plot acc and loss"
   ]
  },
  {
   "cell_type": "code",
   "execution_count": 50,
   "metadata": {},
   "outputs": [
    {
     "data": {
      "image/png": "[encoded data removed]",
      "text/plain": [
       "<Figure size 1080x216 with 1 Axes>"
      ]
     },
     "metadata": {},
     "output_type": "display_data"
    },
    {
     "data": {
      "image/png": "[encoded data removed]",
      "text/plain": [
       "<Figure size 1080x216 with 1 Axes>"
      ]
     },
     "metadata": {},
     "output_type": "display_data"
    }
   ],
   "source": [
    "train_acc = [i['accuracy'] for i in train_logs]\n",
    "valid_acc = [i['accuracy'] for i in valid_logs]\n",
    "\n",
    "train_loss = [i['loss'] for i in train_logs]\n",
    "valid_loss = [i['loss'] for i in valid_logs]\n",
    "\n",
    "plt.figure(figsize=(15, 3))\n",
    "plt.plot(train_acc)\n",
    "plt.plot(valid_acc)\n",
    "plt.ylabel('Accuracy', fontsize=12)\n",
    "plt.xlabel('Steps', fontsize=12)\n",
    "plt.legend(['Train acc', 'Validation acc'], fontsize=10, loc='upper left')\n",
    "plt.show()\n",
    "\n",
    "plt.figure(figsize=(15, 3))\n",
    "plt.plot(train_loss)\n",
    "plt.plot(valid_loss)\n",
    "plt.ylabel('Loss', fontsize=12)\n",
    "plt.xlabel('Steps', fontsize=12)\n",
    "plt.legend(['Train loss', 'Validation loss'], fontsize=10, loc='upper left')\n",
    "plt.show()"
   ]
  },
  {
   "cell_type": "markdown",
   "metadata": {},
   "source": [
    "### Create submission file"
   ]
  },
  {
   "cell_type": "code",
   "execution_count": 51,
   "metadata": {},
   "outputs": [
    {
     "name": "stdout",
     "output_type": "stream",
     "text": [
      "Saved predictions to  submission-01.csv\n"
     ]
    }
   ],
   "source": [
    "# create kaggle submission file\n",
    "# in predict mode model returns generator\n",
    "predict_generator = cnn_classifier.predict(input_fn=predict_input_fn)\n",
    "\n",
    "# create list of dict like {class:class, probability:probability}\n",
    "predict_dictlist = [next(predict_generator) for i in range(len(test_examples))]\n",
    "\n",
    "# for kaggle we need only classes\n",
    "classes = [predict_dictlist[item]['classes'] for item in range(len(predict_dictlist))]\n",
    "\n",
    "# function to create pandas df\n",
    "def create_mnist_submission_df(class_predictions, file_name):\n",
    "    submission_df = pd.DataFrame()\n",
    "    submission_df['ImageId'] = range(1, 28001, 1)\n",
    "    submission_df['Label'] = class_predictions\n",
    "    submission_df.set_index('ImageId', inplace=True)\n",
    "    submission_df.to_csv(file_name)\n",
    "    print('Saved predictions to ', file_name)\n",
    "\n",
    "create_mnist_submission_df(classes, 'submission-01.csv')"
   ]
  },
  {
   "cell_type": "code",
   "execution_count": null,
   "metadata": {},
   "outputs": [],
   "source": []
  }
 ],
 "metadata": {
  "kernelspec": {
   "display_name": "Python 3",
   "language": "python",
   "name": "python3"
  },
  "language_info": {
   "codemirror_mode": {
    "name": "ipython",
    "version": 3
   },
   "file_extension": ".py",
   "mimetype": "text/x-python",
   "name": "python",
   "nbconvert_exporter": "python",
   "pygments_lexer": "ipython3",
   "version": "3.5.3"
  }
 },
 "nbformat": 4,
 "nbformat_minor": 2
}
